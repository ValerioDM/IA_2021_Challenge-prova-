{
 "cells": [
  {
   "cell_type": "markdown",
   "id": "247885fe-e58b-48d8-bc22-6b4714e4dbb8",
   "metadata": {},
   "source": [
    "# Train dei dati\n",
    "### Si ritiene un'opzione valida utilizzare un decision tree per effettuare la classificazione"
   ]
  },
  {
   "cell_type": "code",
   "execution_count": 65,
   "id": "609cc9c5-b050-49e7-adb1-dac954a2cbd0",
   "metadata": {},
   "outputs": [
    {
     "name": "stdout",
     "output_type": "stream",
     "text": [
      "Requirement already satisfied: scikit-learn in c:\\users\\valer\\anaconda3\\envs\\ia2021\\lib\\site-packages (0.24.2)\n",
      "Requirement already satisfied: threadpoolctl>=2.0.0 in c:\\users\\valer\\anaconda3\\envs\\ia2021\\lib\\site-packages (from scikit-learn) (2.1.0)\n",
      "Requirement already satisfied: scipy>=0.19.1 in c:\\users\\valer\\anaconda3\\envs\\ia2021\\lib\\site-packages (from scikit-learn) (1.6.2)\n",
      "Requirement already satisfied: joblib>=0.11 in c:\\users\\valer\\anaconda3\\envs\\ia2021\\lib\\site-packages (from scikit-learn) (1.0.1)\n",
      "Requirement already satisfied: numpy>=1.13.3 in c:\\users\\valer\\anaconda3\\envs\\ia2021\\lib\\site-packages (from scikit-learn) (1.19.2)\n",
      "Requirement already satisfied: pandas in c:\\users\\valer\\anaconda3\\envs\\ia2021\\lib\\site-packages (1.2.3)\n",
      "Requirement already satisfied: python-dateutil>=2.7.3 in c:\\users\\valer\\anaconda3\\envs\\ia2021\\lib\\site-packages (from pandas) (2.8.1)\n",
      "Requirement already satisfied: numpy>=1.16.5 in c:\\users\\valer\\anaconda3\\envs\\ia2021\\lib\\site-packages (from pandas) (1.19.2)\n",
      "Requirement already satisfied: pytz>=2017.3 in c:\\users\\valer\\anaconda3\\envs\\ia2021\\lib\\site-packages (from pandas) (2021.1)\n",
      "Requirement already satisfied: six>=1.5 in c:\\users\\valer\\anaconda3\\envs\\ia2021\\lib\\site-packages (from python-dateutil>=2.7.3->pandas) (1.15.0)\n",
      "Requirement already satisfied: mglearn in c:\\users\\valer\\anaconda3\\envs\\ia2021\\lib\\site-packages (0.1.9)\n",
      "Requirement already satisfied: joblib in c:\\users\\valer\\anaconda3\\envs\\ia2021\\lib\\site-packages (from mglearn) (1.0.1)\n",
      "Requirement already satisfied: matplotlib in c:\\users\\valer\\anaconda3\\envs\\ia2021\\lib\\site-packages (from mglearn) (3.3.4)\n",
      "Requirement already satisfied: numpy in c:\\users\\valer\\anaconda3\\envs\\ia2021\\lib\\site-packages (from mglearn) (1.19.2)\n",
      "Requirement already satisfied: imageio in c:\\users\\valer\\anaconda3\\envs\\ia2021\\lib\\site-packages (from mglearn) (2.9.0)\n",
      "Requirement already satisfied: cycler in c:\\users\\valer\\anaconda3\\envs\\ia2021\\lib\\site-packages (from mglearn) (0.10.0)\n",
      "Requirement already satisfied: pillow in c:\\users\\valer\\anaconda3\\envs\\ia2021\\lib\\site-packages (from mglearn) (8.1.2)\n",
      "Requirement already satisfied: pandas in c:\\users\\valer\\anaconda3\\envs\\ia2021\\lib\\site-packages (from mglearn) (1.2.3)\n",
      "Requirement already satisfied: scikit-learn in c:\\users\\valer\\anaconda3\\envs\\ia2021\\lib\\site-packages (from mglearn) (0.24.2)\n",
      "Requirement already satisfied: six in c:\\users\\valer\\anaconda3\\envs\\ia2021\\lib\\site-packages (from cycler->mglearn) (1.15.0)\n",
      "Requirement already satisfied: python-dateutil>=2.1 in c:\\users\\valer\\anaconda3\\envs\\ia2021\\lib\\site-packages (from matplotlib->mglearn) (2.8.1)\n",
      "Requirement already satisfied: kiwisolver>=1.0.1 in c:\\users\\valer\\anaconda3\\envs\\ia2021\\lib\\site-packages (from matplotlib->mglearn) (1.3.1)\n",
      "Requirement already satisfied: pyparsing!=2.0.4,!=2.1.2,!=2.1.6,>=2.0.3 in c:\\users\\valer\\anaconda3\\envs\\ia2021\\lib\\site-packages (from matplotlib->mglearn) (2.4.7)\n",
      "Requirement already satisfied: pytz>=2017.3 in c:\\users\\valer\\anaconda3\\envs\\ia2021\\lib\\site-packages (from pandas->mglearn) (2021.1)\n",
      "Requirement already satisfied: threadpoolctl>=2.0.0 in c:\\users\\valer\\anaconda3\\envs\\ia2021\\lib\\site-packages (from scikit-learn->mglearn) (2.1.0)\n",
      "Requirement already satisfied: scipy>=0.19.1 in c:\\users\\valer\\anaconda3\\envs\\ia2021\\lib\\site-packages (from scikit-learn->mglearn) (1.6.2)\n"
     ]
    }
   ],
   "source": [
    "!pip install scikit-learn\n",
    "!pip install pandas\n",
    "!pip install mglearn"
   ]
  },
  {
   "cell_type": "code",
   "execution_count": 45,
   "id": "aa7a2e97-7670-464d-a6c4-50a81644c9b1",
   "metadata": {},
   "outputs": [],
   "source": [
    "import numpy as np\n",
    "import pandas as pd\n",
    "import matplotlib.pyplot as plt"
   ]
  },
  {
   "cell_type": "code",
   "execution_count": 46,
   "id": "2d914195-f2ed-4571-835a-8f41d7821820",
   "metadata": {
    "tags": []
   },
   "outputs": [],
   "source": [
    "train=pd.read_csv('train.csv', sep=',')\n",
    "#train.head()"
   ]
  },
  {
   "cell_type": "code",
   "execution_count": 47,
   "id": "47c48d68-2024-4115-8780-794032313c63",
   "metadata": {},
   "outputs": [],
   "source": [
    "test=pd.read_csv('test.csv', sep=',')\n",
    "#test.head()"
   ]
  },
  {
   "cell_type": "markdown",
   "id": "a81a9033-31c0-4580-bde7-5395ad200f78",
   "metadata": {},
   "source": [
    "#### I valori delle features sono lettere, bisogna dunque procedere a convertirle in numeri per effettuare il train"
   ]
  },
  {
   "cell_type": "code",
   "execution_count": 49,
   "id": "66e4afa2-6a38-4063-a042-7023ea82f6ac",
   "metadata": {},
   "outputs": [],
   "source": [
    "from sklearn.preprocessing import LabelEncoder\n",
    "\n",
    "train = train.apply(LabelEncoder().fit_transform)\n",
    "test = test.apply(LabelEncoder().fit_transform)\n",
    "\n",
    "#mi porta le lettere in numeri così posso fare train"
   ]
  },
  {
   "cell_type": "code",
   "execution_count": 50,
   "id": "7ceed491-2f4c-43f1-b3c3-15b4a268de5a",
   "metadata": {},
   "outputs": [
    {
     "data": {
      "text/html": [
       "<div>\n",
       "<style scoped>\n",
       "    .dataframe tbody tr th:only-of-type {\n",
       "        vertical-align: middle;\n",
       "    }\n",
       "\n",
       "    .dataframe tbody tr th {\n",
       "        vertical-align: top;\n",
       "    }\n",
       "\n",
       "    .dataframe thead th {\n",
       "        text-align: right;\n",
       "    }\n",
       "</style>\n",
       "<table border=\"1\" class=\"dataframe\">\n",
       "  <thead>\n",
       "    <tr style=\"text-align: right;\">\n",
       "      <th></th>\n",
       "      <th>class</th>\n",
       "      <th>cap-shape</th>\n",
       "      <th>cap-surface</th>\n",
       "      <th>cap-color</th>\n",
       "      <th>bruises</th>\n",
       "      <th>odor</th>\n",
       "      <th>gill-attachment</th>\n",
       "      <th>gill-spacing</th>\n",
       "      <th>gill-size</th>\n",
       "      <th>gill-color</th>\n",
       "      <th>...</th>\n",
       "      <th>stalk-surface-below-ring</th>\n",
       "      <th>stalk-color-above-ring</th>\n",
       "      <th>stalk-color-below-ring</th>\n",
       "      <th>veil-type</th>\n",
       "      <th>veil-color</th>\n",
       "      <th>ring-number</th>\n",
       "      <th>ring-type</th>\n",
       "      <th>spore-print-color</th>\n",
       "      <th>population</th>\n",
       "      <th>habitat</th>\n",
       "    </tr>\n",
       "  </thead>\n",
       "  <tbody>\n",
       "    <tr>\n",
       "      <th>0</th>\n",
       "      <td>0</td>\n",
       "      <td>2</td>\n",
       "      <td>1</td>\n",
       "      <td>0</td>\n",
       "      <td>1</td>\n",
       "      <td>5</td>\n",
       "      <td>1</td>\n",
       "      <td>0</td>\n",
       "      <td>0</td>\n",
       "      <td>10</td>\n",
       "      <td>...</td>\n",
       "      <td>2</td>\n",
       "      <td>7</td>\n",
       "      <td>2</td>\n",
       "      <td>0</td>\n",
       "      <td>2</td>\n",
       "      <td>2</td>\n",
       "      <td>0</td>\n",
       "      <td>7</td>\n",
       "      <td>1</td>\n",
       "      <td>6</td>\n",
       "    </tr>\n",
       "    <tr>\n",
       "      <th>1</th>\n",
       "      <td>0</td>\n",
       "      <td>0</td>\n",
       "      <td>0</td>\n",
       "      <td>8</td>\n",
       "      <td>0</td>\n",
       "      <td>5</td>\n",
       "      <td>1</td>\n",
       "      <td>1</td>\n",
       "      <td>0</td>\n",
       "      <td>2</td>\n",
       "      <td>...</td>\n",
       "      <td>1</td>\n",
       "      <td>7</td>\n",
       "      <td>7</td>\n",
       "      <td>0</td>\n",
       "      <td>2</td>\n",
       "      <td>2</td>\n",
       "      <td>4</td>\n",
       "      <td>7</td>\n",
       "      <td>2</td>\n",
       "      <td>1</td>\n",
       "    </tr>\n",
       "    <tr>\n",
       "      <th>2</th>\n",
       "      <td>0</td>\n",
       "      <td>2</td>\n",
       "      <td>2</td>\n",
       "      <td>0</td>\n",
       "      <td>1</td>\n",
       "      <td>5</td>\n",
       "      <td>1</td>\n",
       "      <td>0</td>\n",
       "      <td>0</td>\n",
       "      <td>10</td>\n",
       "      <td>...</td>\n",
       "      <td>2</td>\n",
       "      <td>2</td>\n",
       "      <td>7</td>\n",
       "      <td>0</td>\n",
       "      <td>2</td>\n",
       "      <td>2</td>\n",
       "      <td>0</td>\n",
       "      <td>7</td>\n",
       "      <td>1</td>\n",
       "      <td>6</td>\n",
       "    </tr>\n",
       "    <tr>\n",
       "      <th>3</th>\n",
       "      <td>0</td>\n",
       "      <td>2</td>\n",
       "      <td>1</td>\n",
       "      <td>8</td>\n",
       "      <td>0</td>\n",
       "      <td>5</td>\n",
       "      <td>1</td>\n",
       "      <td>1</td>\n",
       "      <td>0</td>\n",
       "      <td>3</td>\n",
       "      <td>...</td>\n",
       "      <td>2</td>\n",
       "      <td>7</td>\n",
       "      <td>7</td>\n",
       "      <td>0</td>\n",
       "      <td>2</td>\n",
       "      <td>1</td>\n",
       "      <td>0</td>\n",
       "      <td>2</td>\n",
       "      <td>0</td>\n",
       "      <td>1</td>\n",
       "    </tr>\n",
       "    <tr>\n",
       "      <th>4</th>\n",
       "      <td>1</td>\n",
       "      <td>5</td>\n",
       "      <td>1</td>\n",
       "      <td>0</td>\n",
       "      <td>1</td>\n",
       "      <td>2</td>\n",
       "      <td>1</td>\n",
       "      <td>0</td>\n",
       "      <td>0</td>\n",
       "      <td>7</td>\n",
       "      <td>...</td>\n",
       "      <td>2</td>\n",
       "      <td>7</td>\n",
       "      <td>7</td>\n",
       "      <td>0</td>\n",
       "      <td>2</td>\n",
       "      <td>1</td>\n",
       "      <td>4</td>\n",
       "      <td>1</td>\n",
       "      <td>4</td>\n",
       "      <td>1</td>\n",
       "    </tr>\n",
       "  </tbody>\n",
       "</table>\n",
       "<p>5 rows × 23 columns</p>\n",
       "</div>"
      ],
      "text/plain": [
       "   class  cap-shape  cap-surface  cap-color  bruises  odor  gill-attachment  \\\n",
       "0      0          2            1          0        1     5                1   \n",
       "1      0          0            0          8        0     5                1   \n",
       "2      0          2            2          0        1     5                1   \n",
       "3      0          2            1          8        0     5                1   \n",
       "4      1          5            1          0        1     2                1   \n",
       "\n",
       "   gill-spacing  gill-size  gill-color  ...  stalk-surface-below-ring  \\\n",
       "0             0          0          10  ...                         2   \n",
       "1             1          0           2  ...                         1   \n",
       "2             0          0          10  ...                         2   \n",
       "3             1          0           3  ...                         2   \n",
       "4             0          0           7  ...                         2   \n",
       "\n",
       "   stalk-color-above-ring  stalk-color-below-ring  veil-type  veil-color  \\\n",
       "0                       7                       2          0           2   \n",
       "1                       7                       7          0           2   \n",
       "2                       2                       7          0           2   \n",
       "3                       7                       7          0           2   \n",
       "4                       7                       7          0           2   \n",
       "\n",
       "   ring-number  ring-type  spore-print-color  population  habitat  \n",
       "0            2          0                  7           1        6  \n",
       "1            2          4                  7           2        1  \n",
       "2            2          0                  7           1        6  \n",
       "3            1          0                  2           0        1  \n",
       "4            1          4                  1           4        1  \n",
       "\n",
       "[5 rows x 23 columns]"
      ]
     },
     "execution_count": 50,
     "metadata": {},
     "output_type": "execute_result"
    }
   ],
   "source": [
    "test.head()"
   ]
  },
  {
   "cell_type": "markdown",
   "id": "f0641da2-4dbc-4fdc-8428-5e2475d08fb7",
   "metadata": {},
   "source": [
    "#### Come discusso precedentemente, può essere rimossa la feature"
   ]
  },
  {
   "cell_type": "code",
   "execution_count": 51,
   "id": "a4bab5a7-4d54-4651-8de2-f2cbdbb4e032",
   "metadata": {},
   "outputs": [],
   "source": [
    "train = train.drop(columns = [\"veil-type\"])\n",
    "test = test.drop(columns = [\"veil-type\"])\n",
    "\n",
    "\n",
    "y_train = train[\"class\"].values                   #poisonus o meno\n",
    "x_train = train.drop([\"class\"], axis=1).values    #tutto il resto\n",
    "y_test = test[\"class\"].values\n",
    "x_test = test.drop([\"class\"], axis=1).values\n"
   ]
  },
  {
   "cell_type": "code",
   "execution_count": 58,
   "id": "78c13f63-4645-4eb6-ac1c-288b312c774a",
   "metadata": {},
   "outputs": [
    {
     "name": "stdout",
     "output_type": "stream",
     "text": [
      "Accuracy on training set: 1.000\n",
      "Accuracy on test set: 1.000\n"
     ]
    }
   ],
   "source": [
    "from sklearn.tree import DecisionTreeClassifier\n",
    "\n",
    "\n",
    "tree = DecisionTreeClassifier(criterion='entropy', random_state=42)\n",
    "tree.fit(x_train, y_train)\n",
    "print(\"Accuracy on training set: {:.3f}\".format(tree.score(x_train, y_train)))\n",
    "print(\"Accuracy on test set: {:.3f}\".format(tree.score(x_test, y_test)))"
   ]
  },
  {
   "cell_type": "markdown",
   "id": "e4c01a6b-0e76-497e-bd46-107f48e362a7",
   "metadata": {},
   "source": [
    "#### Vedere un'accuratezza di 1.000 mi insospettisce, allora provo ad ri-eseguire il train, studiando i risultati al variare della max_depth\n",
    "Sembra che 7 sia la profondità migliore prima di tornare al caso precedente con accuratezza 1.000"
   ]
  },
  {
   "cell_type": "code",
   "execution_count": 57,
   "id": "3e00c298-626e-45a6-8ae4-d662f41f6473",
   "metadata": {},
   "outputs": [
    {
     "name": "stdout",
     "output_type": "stream",
     "text": [
      "Accuracy on training set: 0.997\n",
      "Accuracy on test set: 0.993\n"
     ]
    }
   ],
   "source": [
    "tree = DecisionTreeClassifier(max_depth=7, random_state=0)\n",
    "tree.fit(x_train, y_train)\n",
    "\n",
    "print(\"Accuracy on training set: {:.3f}\".format(tree.score(x_train, y_train)))\n",
    "print(\"Accuracy on test set: {:.3f}\".format(tree.score(x_test, y_test)))"
   ]
  }
 ],
 "metadata": {
  "kernelspec": {
   "display_name": "Python 3",
   "language": "python",
   "name": "python3"
  },
  "language_info": {
   "codemirror_mode": {
    "name": "ipython",
    "version": 3
   },
   "file_extension": ".py",
   "mimetype": "text/x-python",
   "name": "python",
   "nbconvert_exporter": "python",
   "pygments_lexer": "ipython3",
   "version": "3.8.8"
  }
 },
 "nbformat": 4,
 "nbformat_minor": 5
}
